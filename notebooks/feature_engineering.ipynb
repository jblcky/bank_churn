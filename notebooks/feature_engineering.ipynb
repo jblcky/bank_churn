{
 "cells": [
  {
   "cell_type": "code",
   "execution_count": 1,
   "id": "6f7c8bf8",
   "metadata": {},
   "outputs": [],
   "source": [
    "import pandas as pd\n",
    "import numpy as np\n",
    "from sklearn.preprocessing import OneHotEncoder, LabelEncoder"
   ]
  },
  {
   "cell_type": "code",
   "execution_count": 12,
   "id": "4772bf50",
   "metadata": {},
   "outputs": [
    {
     "data": {
      "text/html": [
       "<div>\n",
       "<style scoped>\n",
       "    .dataframe tbody tr th:only-of-type {\n",
       "        vertical-align: middle;\n",
       "    }\n",
       "\n",
       "    .dataframe tbody tr th {\n",
       "        vertical-align: top;\n",
       "    }\n",
       "\n",
       "    .dataframe thead th {\n",
       "        text-align: right;\n",
       "    }\n",
       "</style>\n",
       "<table border=\"1\" class=\"dataframe\">\n",
       "  <thead>\n",
       "    <tr style=\"text-align: right;\">\n",
       "      <th></th>\n",
       "      <th>CreditScore</th>\n",
       "      <th>Gender</th>\n",
       "      <th>Age</th>\n",
       "      <th>Tenure</th>\n",
       "      <th>Balance</th>\n",
       "      <th>NumOfProducts</th>\n",
       "      <th>HasCrCard</th>\n",
       "      <th>IsActiveMember</th>\n",
       "      <th>EstimatedSalary</th>\n",
       "      <th>Exited</th>\n",
       "      <th>Complain</th>\n",
       "      <th>Satisfaction Score</th>\n",
       "      <th>Point Earned</th>\n",
       "      <th>BalancePerProduct</th>\n",
       "      <th>BalanceToSalary</th>\n",
       "      <th>EngagementScore</th>\n",
       "      <th>TenureGroup</th>\n",
       "      <th>CardTypeRank</th>\n",
       "      <th>Geography_Germany</th>\n",
       "      <th>Geography_Spain</th>\n",
       "    </tr>\n",
       "  </thead>\n",
       "  <tbody>\n",
       "    <tr>\n",
       "      <th>0</th>\n",
       "      <td>619</td>\n",
       "      <td>1</td>\n",
       "      <td>42</td>\n",
       "      <td>2</td>\n",
       "      <td>0.00</td>\n",
       "      <td>1</td>\n",
       "      <td>1</td>\n",
       "      <td>1</td>\n",
       "      <td>101348.88</td>\n",
       "      <td>1</td>\n",
       "      <td>1</td>\n",
       "      <td>2</td>\n",
       "      <td>464</td>\n",
       "      <td>0.00</td>\n",
       "      <td>0.000000</td>\n",
       "      <td>2</td>\n",
       "      <td>Short</td>\n",
       "      <td>4</td>\n",
       "      <td>0</td>\n",
       "      <td>0</td>\n",
       "    </tr>\n",
       "    <tr>\n",
       "      <th>1</th>\n",
       "      <td>608</td>\n",
       "      <td>1</td>\n",
       "      <td>41</td>\n",
       "      <td>1</td>\n",
       "      <td>83807.86</td>\n",
       "      <td>1</td>\n",
       "      <td>0</td>\n",
       "      <td>1</td>\n",
       "      <td>112542.58</td>\n",
       "      <td>0</td>\n",
       "      <td>1</td>\n",
       "      <td>3</td>\n",
       "      <td>456</td>\n",
       "      <td>41903.93</td>\n",
       "      <td>0.744670</td>\n",
       "      <td>1</td>\n",
       "      <td>Short</td>\n",
       "      <td>4</td>\n",
       "      <td>0</td>\n",
       "      <td>1</td>\n",
       "    </tr>\n",
       "    <tr>\n",
       "      <th>2</th>\n",
       "      <td>502</td>\n",
       "      <td>1</td>\n",
       "      <td>42</td>\n",
       "      <td>8</td>\n",
       "      <td>159660.80</td>\n",
       "      <td>3</td>\n",
       "      <td>1</td>\n",
       "      <td>0</td>\n",
       "      <td>113931.57</td>\n",
       "      <td>1</td>\n",
       "      <td>1</td>\n",
       "      <td>3</td>\n",
       "      <td>377</td>\n",
       "      <td>39915.20</td>\n",
       "      <td>1.401362</td>\n",
       "      <td>1</td>\n",
       "      <td>Long</td>\n",
       "      <td>4</td>\n",
       "      <td>0</td>\n",
       "      <td>0</td>\n",
       "    </tr>\n",
       "    <tr>\n",
       "      <th>3</th>\n",
       "      <td>699</td>\n",
       "      <td>1</td>\n",
       "      <td>39</td>\n",
       "      <td>1</td>\n",
       "      <td>0.00</td>\n",
       "      <td>2</td>\n",
       "      <td>0</td>\n",
       "      <td>0</td>\n",
       "      <td>93826.63</td>\n",
       "      <td>0</td>\n",
       "      <td>0</td>\n",
       "      <td>5</td>\n",
       "      <td>350</td>\n",
       "      <td>0.00</td>\n",
       "      <td>0.000000</td>\n",
       "      <td>0</td>\n",
       "      <td>Short</td>\n",
       "      <td>2</td>\n",
       "      <td>0</td>\n",
       "      <td>0</td>\n",
       "    </tr>\n",
       "    <tr>\n",
       "      <th>4</th>\n",
       "      <td>850</td>\n",
       "      <td>1</td>\n",
       "      <td>43</td>\n",
       "      <td>2</td>\n",
       "      <td>125510.82</td>\n",
       "      <td>1</td>\n",
       "      <td>1</td>\n",
       "      <td>1</td>\n",
       "      <td>79084.10</td>\n",
       "      <td>0</td>\n",
       "      <td>0</td>\n",
       "      <td>5</td>\n",
       "      <td>425</td>\n",
       "      <td>62755.41</td>\n",
       "      <td>1.587035</td>\n",
       "      <td>2</td>\n",
       "      <td>Short</td>\n",
       "      <td>2</td>\n",
       "      <td>0</td>\n",
       "      <td>1</td>\n",
       "    </tr>\n",
       "  </tbody>\n",
       "</table>\n",
       "</div>"
      ],
      "text/plain": [
       "   CreditScore  Gender  Age  Tenure    Balance  NumOfProducts  HasCrCard  \\\n",
       "0          619       1   42       2       0.00              1          1   \n",
       "1          608       1   41       1   83807.86              1          0   \n",
       "2          502       1   42       8  159660.80              3          1   \n",
       "3          699       1   39       1       0.00              2          0   \n",
       "4          850       1   43       2  125510.82              1          1   \n",
       "\n",
       "   IsActiveMember  EstimatedSalary  Exited  Complain  Satisfaction Score  \\\n",
       "0               1        101348.88       1         1                   2   \n",
       "1               1        112542.58       0         1                   3   \n",
       "2               0        113931.57       1         1                   3   \n",
       "3               0         93826.63       0         0                   5   \n",
       "4               1         79084.10       0         0                   5   \n",
       "\n",
       "   Point Earned  BalancePerProduct  BalanceToSalary  EngagementScore  \\\n",
       "0           464               0.00         0.000000                2   \n",
       "1           456           41903.93         0.744670                1   \n",
       "2           377           39915.20         1.401362                1   \n",
       "3           350               0.00         0.000000                0   \n",
       "4           425           62755.41         1.587035                2   \n",
       "\n",
       "  TenureGroup  CardTypeRank  Geography_Germany  Geography_Spain  \n",
       "0       Short             4                  0                0  \n",
       "1       Short             4                  0                1  \n",
       "2        Long             4                  0                0  \n",
       "3       Short             2                  0                0  \n",
       "4       Short             2                  0                1  "
      ]
     },
     "execution_count": 12,
     "metadata": {},
     "output_type": "execute_result"
    }
   ],
   "source": [
    "df = pd.read_csv('../data/churn_cleaned.csv')\n",
    "df.head()"
   ]
  },
  {
   "cell_type": "code",
   "execution_count": 13,
   "id": "94edbd2d",
   "metadata": {},
   "outputs": [
    {
     "name": "stdout",
     "output_type": "stream",
     "text": [
      "<class 'pandas.core.frame.DataFrame'>\n",
      "RangeIndex: 10000 entries, 0 to 9999\n",
      "Data columns (total 20 columns):\n",
      " #   Column              Non-Null Count  Dtype  \n",
      "---  ------              --------------  -----  \n",
      " 0   CreditScore         10000 non-null  int64  \n",
      " 1   Gender              10000 non-null  int64  \n",
      " 2   Age                 10000 non-null  int64  \n",
      " 3   Tenure              10000 non-null  int64  \n",
      " 4   Balance             10000 non-null  float64\n",
      " 5   NumOfProducts       10000 non-null  int64  \n",
      " 6   HasCrCard           10000 non-null  int64  \n",
      " 7   IsActiveMember      10000 non-null  int64  \n",
      " 8   EstimatedSalary     10000 non-null  float64\n",
      " 9   Exited              10000 non-null  int64  \n",
      " 10  Complain            10000 non-null  int64  \n",
      " 11  Satisfaction Score  10000 non-null  int64  \n",
      " 12  Point Earned        10000 non-null  int64  \n",
      " 13  BalancePerProduct   10000 non-null  float64\n",
      " 14  BalanceToSalary     10000 non-null  float64\n",
      " 15  EngagementScore     10000 non-null  int64  \n",
      " 16  TenureGroup         10000 non-null  object \n",
      " 17  CardTypeRank        10000 non-null  int64  \n",
      " 18  Geography_Germany   10000 non-null  int64  \n",
      " 19  Geography_Spain     10000 non-null  int64  \n",
      "dtypes: float64(4), int64(15), object(1)\n",
      "memory usage: 1.5+ MB\n"
     ]
    }
   ],
   "source": [
    "df.info()"
   ]
  },
  {
   "cell_type": "markdown",
   "id": "5cc46df6",
   "metadata": {},
   "source": [
    "# Balance per Product\n",
    "👉 Why: A customer with a large balance but very few products might be disengaged (higher churn risk)."
   ]
  },
  {
   "cell_type": "code",
   "execution_count": null,
   "id": "0cdf4b9e",
   "metadata": {},
   "outputs": [],
   "source": [
    "# df['BalancePerProduct'] = df['Balance'] / (df['NumOfProducts'] + 1)"
   ]
  },
  {
   "cell_type": "markdown",
   "id": "4a4c70eb",
   "metadata": {},
   "source": [
    "# Balance-to-Salary Ratio\n",
    "👉 Why: Measures reliance on the bank.\n",
    "- High ratio → customer stores most wealth in the bank (likely loyal).\n",
    "- Low ratio → customer may be disengaged."
   ]
  },
  {
   "cell_type": "code",
   "execution_count": null,
   "id": "d6ed4c72",
   "metadata": {},
   "outputs": [],
   "source": [
    "# df['BalanceToSalary'] = df['Balance'] / (df['EstimatedSalary'] + 1)"
   ]
  },
  {
   "cell_type": "markdown",
   "id": "77583d65",
   "metadata": {},
   "source": [
    "# Engagement Score\n",
    "👉 Why: Engagement reduces churn.\n",
    "- Customers who are active and hold a credit card tend to stay longer."
   ]
  },
  {
   "cell_type": "code",
   "execution_count": null,
   "id": "41182a18",
   "metadata": {},
   "outputs": [],
   "source": [
    "# df['EngagementScore'] = df['IsActiveMember'] + df['HasCrCard']"
   ]
  },
  {
   "cell_type": "markdown",
   "id": "8f835d58",
   "metadata": {},
   "source": [
    "# Tenure Bucket\n",
    "👉 Why: Loyalty increases with time.\n",
    "- Early churners behave differently than long-term customers.\n",
    "- Short → 0 to 3 years\n",
    "- Mid → 4 to 7 years\n",
    "- Long → 8 to 15 years"
   ]
  },
  {
   "cell_type": "code",
   "execution_count": null,
   "id": "4e1ce27d",
   "metadata": {},
   "outputs": [],
   "source": [
    "# df['TenureGroup'] = pd.cut(\n",
    "#     df['Tenure'], bins=[-1,3,7,15], labels=['Short','Mid','Long']\n",
    "# )"
   ]
  },
  {
   "cell_type": "markdown",
   "id": "cb6dc4bc",
   "metadata": {},
   "source": [
    "# Card Type Rank\n",
    "\n",
    "👉 Why: Higher tier cards (Gold, Platinum, Diamond) may indicate stronger relationship with the bank."
   ]
  },
  {
   "cell_type": "code",
   "execution_count": null,
   "id": "31279acc",
   "metadata": {},
   "outputs": [],
   "source": [
    "# card_map = {'SILVER':1, 'GOLD':2, 'PLATINUM':3, 'DIAMOND':4}\n",
    "# df['CardTypeRank'] = df['Card Type'].map(card_map)"
   ]
  },
  {
   "cell_type": "markdown",
   "id": "1c1520d9",
   "metadata": {},
   "source": [
    "# Male = 0, Female = 1"
   ]
  },
  {
   "cell_type": "code",
   "execution_count": null,
   "id": "f5a2b4ba",
   "metadata": {},
   "outputs": [
    {
     "data": {
      "text/plain": [
       "Index(['CreditScore', 'Gender', 'Age', 'Tenure', 'Balance', 'NumOfProducts',\n",
       "       'HasCrCard', 'IsActiveMember', 'EstimatedSalary', 'Exited', 'Complain',\n",
       "       'Satisfaction Score', 'Point Earned', 'BalancePerProduct',\n",
       "       'BalanceToSalary', 'EngagementScore', 'TenureGroup', 'CardTypeRank',\n",
       "       'Geography_Germany', 'Geography_Spain'],\n",
       "      dtype='object')"
      ]
     },
     "execution_count": 4,
     "metadata": {},
     "output_type": "execute_result"
    }
   ],
   "source": [
    "# df['Gender'] = df['Gender'].map({'Male':0, 'Female':1})"
   ]
  },
  {
   "cell_type": "markdown",
   "id": "b90bcf9c",
   "metadata": {},
   "source": [
    "# No = 0, Yes = 1."
   ]
  },
  {
   "cell_type": "code",
   "execution_count": null,
   "id": "ca8f07d9",
   "metadata": {},
   "outputs": [],
   "source": [
    "# df['Complain'] = df['Complain'].map({'No':0, 'Yes':1})"
   ]
  },
  {
   "cell_type": "markdown",
   "id": "65b2b75d",
   "metadata": {},
   "source": [
    "# Why no Onehot encode\n",
    "- Because 7-10 is more tenure than 4-6, which is more than 0-3.\n",
    "- That ordering carries meaning → models learn better with ordinal encoding."
   ]
  },
  {
   "cell_type": "code",
   "execution_count": null,
   "id": "db1da840",
   "metadata": {},
   "outputs": [],
   "source": [
    "# mapping = {\n",
    "#     'Short': 1,\n",
    "#     'Mid': 2,\n",
    "#     'Long': 3\n",
    "# }\n",
    "# df['TenureGroup'] = df['TenureGroup'].map(mapping)"
   ]
  },
  {
   "cell_type": "code",
   "execution_count": 19,
   "id": "0761fee8",
   "metadata": {},
   "outputs": [
    {
     "data": {
      "text/plain": [
       "Index(['CreditScore', 'Gender', 'Age', 'Tenure', 'Balance', 'NumOfProducts',\n",
       "       'HasCrCard', 'IsActiveMember', 'EstimatedSalary', 'Exited', 'Complain',\n",
       "       'Satisfaction Score', 'Point Earned', 'BalancePerProduct',\n",
       "       'BalanceToSalary', 'EngagementScore', 'TenureGroup', 'CardTypeRank',\n",
       "       'Geography_Germany', 'Geography_Spain'],\n",
       "      dtype='object')"
      ]
     },
     "execution_count": 19,
     "metadata": {},
     "output_type": "execute_result"
    }
   ],
   "source": [
    "df.columns"
   ]
  },
  {
   "cell_type": "code",
   "execution_count": null,
   "id": "476269e8",
   "metadata": {},
   "outputs": [],
   "source": [
    "# df.to_csv('../data/churn_feature_engineered.csv', index=False)"
   ]
  },
  {
   "cell_type": "code",
   "execution_count": null,
   "id": "126c7b66",
   "metadata": {},
   "outputs": [],
   "source": []
  },
  {
   "cell_type": "code",
   "execution_count": null,
   "id": "c558113e",
   "metadata": {},
   "outputs": [],
   "source": []
  },
  {
   "cell_type": "code",
   "execution_count": null,
   "id": "8999fc75",
   "metadata": {},
   "outputs": [],
   "source": []
  },
  {
   "cell_type": "code",
   "execution_count": null,
   "id": "c7873602",
   "metadata": {},
   "outputs": [],
   "source": []
  },
  {
   "cell_type": "code",
   "execution_count": null,
   "id": "848014b9",
   "metadata": {},
   "outputs": [],
   "source": []
  }
 ],
 "metadata": {
  "kernelspec": {
   "display_name": "lewagon",
   "language": "python",
   "name": "python3"
  },
  "language_info": {
   "codemirror_mode": {
    "name": "ipython",
    "version": 3
   },
   "file_extension": ".py",
   "mimetype": "text/x-python",
   "name": "python",
   "nbconvert_exporter": "python",
   "pygments_lexer": "ipython3",
   "version": "3.12.9"
  }
 },
 "nbformat": 4,
 "nbformat_minor": 5
}
